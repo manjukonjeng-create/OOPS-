{
  "nbformat": 4,
  "nbformat_minor": 0,
  "metadata": {
    "colab": {
      "provenance": []
    },
    "kernelspec": {
      "name": "python3",
      "display_name": "Python 3"
    },
    "language_info": {
      "name": "python"
    }
  },
  "cells": [
    {
      "cell_type": "markdown",
      "source": [
        "1. What is Object-Oriented Programming (OOP)?\n",
        "Ans-> Object oriented programming, a way of writing programme.\n",
        "\n",
        "2. What is a class in OOP?\n",
        "Ans-> Class is a blueprint of creating an object\n",
        "\n",
        "3. What is an object in OOP?\n",
        "Ans-> An object is an instance of a class that contains, Actual Product made from the blueprint class\n",
        "\n",
        "4. What is the difference between abstraction and encapsulation?\n",
        "Ans-> Abstraction hides implementation details, Reduce complexity were Encapsulation hides data, Increase security\n",
        "\n",
        "5. What are dunder methods in Python?\n",
        "Ans-> Dunder methods are special built-in methods in Python that start and end with two underscores, Python uses them to implement operator overloading, object behavior, and customization.\n",
        "\n",
        "6. Explain the concept of inheritance in OOP?\n",
        "Ans-> Inheritance in OOP is a mechanism that allows a class to use the properties and methods of another class.\n",
        "\n",
        "7. What is polymorphism in OOP?\n",
        "Ans-> The same function or operator can behave differently depending on the     object or data type.\n",
        "\n",
        "8. How is encapsulation achieved in Python?\n",
        "Ans-> Encapsulation in Python is achieved by:\n",
        "     1.Public attributes/methods → accessible anywhere.\n",
        "     2.Protected attributes (_var) → conventionally for internal use.\n",
        "     3.Private attributes (__var) → enforced by name mangling.\n",
        "     4.Getter & Setter methods → control how private data is accessed/modified.\n",
        "\n",
        "9. What is a constructor in Python?\n",
        "Ans-> In Python, a constructor is a special method used to initialize objects when a class is created. It is automatically called when you create a new instance of a class\n",
        "\n",
        "10. What are class and static methods in Python?\n",
        "Ans-> Class Methods - Defined using the @classmethod decorator.The first parameter is cls, which refers to the class itself.They can access or modify class-level variables.\n",
        "Static Methods - Defined using the @staticmethod decorator.They don’t take self or cls as the first argument.They cannot modify object state or class state.They behave like normal functions but live inside the class for organization/logical grouping.\n",
        "\n",
        "11. What is method overloading in Python?\n",
        "Ans-> Method overloading in Python refers to the concept where a single function or method can exhibit different behaviors based on the number or type of arguments passed to it.\n",
        "\n",
        "12. What is method overriding in OOP?\n",
        "Ans-> Method overriding occurs when a child class defines a method with the same name, same parameters, and same return type as a method in its parent class.\n",
        "\n",
        "13. What is a property decorator in Python?\n",
        "Ans-> The property decorator in Python is used to turn a method into a property.\n",
        "It lets you define getter, setter, and deleter methods in a clean, Pythonic way — without explicitly calling methods like get_name() or set_name().\n",
        "\n",
        "14. Why is polymorphism important in OOP?\n",
        "Ans-> Polymorphism means the same operation or method can behave differently depending on the object.\n",
        "\n",
        "15. What is an abstract class in Python?\n",
        "Ans-> An abstract class is a class that cannot be instantiated directly and is meant to be a blueprint for other classes.\n",
        "\n",
        "16. What are the advantages of OOP?\n",
        "Ans-> 1. Modularity,Code is divided into classes and objects, making it easier\n",
        "         to organize.Each class has a clear role → improves readability and maintenance.\n",
        "         2.Reusability,Once a class is written, it can be reused across projects.Inheritance allows new classes to be built on top of existing ones without rewriting code.\n",
        "\n",
        "17. What is the difference between a class variable and an instance variable?\n",
        "Ans-> Class variable is variable shared by all objects of a class. Stored at the class level\n",
        "\n",
        "18. What is multiple inheritance in Python\n",
        "Ans-> Multiple inheritance means a class can inherit from more than one parent class. In other words, a child class can access attributes and methods from multiple base classes.\n",
        "\n",
        "19. Explain the purpose of ‘’__str__’ and ‘__repr__’ ‘ methods in Python?\n",
        "Ans-> __str__\n",
        "Called by the str() function and print().\n",
        "Provide a human-readable string representation of the object (user-friendly).\n",
        "__repr__(self)\n",
        "Called by the repr() function, or when you just type the object in an interactive shell.\n",
        "Provide an unambiguous representation of the object (developer-oriented).\n",
        "Ideally, it should be a string that could be used to recreate the object\n",
        "\n",
        "20. What is the significance of the ‘super()’ function in Python?\n",
        "Ans-> The significance of the 'super()' fuction\n",
        "      Access Parent Methods Easily\n",
        "      Instead of writing ParentClass.method(self, ...), you just use super().method(...). Supports Multiple Inheritance\n",
        "      Works with Method Resolution Order (MRO) to decide which parent’s method to call.Prevents calling the wrong parent in complex inheritance.Avoids Code Duplication\n",
        "\n",
        "21. What is the significance of the __del__ method in Python?\n",
        "Ans-> Helps in releasing resources automatically. But not always reliable in timing, so Python recommends using context managers instead for resource management.\n",
        "\n",
        "22. What is the difference between @staticmethod and @classmethod in Python?\n",
        "Ans-> Use @staticmethod when the method is independent of class/instance.\n",
        "      Use @classmethod when the method needs to work with class-level data.\n",
        "\n",
        "23. How does polymorphism work in Python with inheritance?\n",
        "ans-> Polymorphism with inheritance allows subclasses to override methods from the parent. This lets different objects respond to the same method call in different ways. Makes code flexible and extensible — you can add new classes without changing existing code.\n",
        "\n",
        "24. What is method chaining in Python OOP?\n",
        "Ans-> Method chaining in Python OOP means calling multiple methods on the same object in a single line by making each method return the object itself (self).\n",
        "\n",
        "25. What is the purpose of the __call__ method in Python?\n",
        "Ans-> The __call__ method allows an instance of a class to be called like a function.\n",
        "If a class defines __call__, you can do obj() and it will execute the logic inside __call__.\n",
        "\n"
      ],
      "metadata": {
        "id": "ZY1kB2xrYajH"
      }
    },
    {
      "cell_type": "code",
      "execution_count": null,
      "metadata": {
        "id": "ZC1Ca7ZuYPLT"
      },
      "outputs": [],
      "source": []
    },
    {
      "cell_type": "code",
      "source": [
        "# 1. Create a parent class Animal with a method speak() that prints a generic message. Create a child class Dog that overrides the speak() method to print \"Bark!\".\n"
      ],
      "metadata": {
        "id": "dzvQAJS8Xc5v"
      },
      "execution_count": 7,
      "outputs": []
    },
    {
      "cell_type": "code",
      "source": [
        "class Animal:\n",
        "    def speak(self):\n",
        "        print(\"This animal makes a sound.\")\n",
        "\n",
        "class Dog(Animal):\n",
        "    def speak(self):\n",
        "        print(\"Bark!\")"
      ],
      "metadata": {
        "id": "RBWUBburZUfJ"
      },
      "execution_count": 16,
      "outputs": []
    },
    {
      "cell_type": "code",
      "source": [
        "# 2. Write a program to create an abstract class Shape with a method area(). Derive classes Circle and Rectangle from it and implement the area() method in both.\n",
        "\n",
        "from abc import ABC, abstractmethod\n",
        "import math\n",
        "\n",
        "# Abstract class\n",
        "class Shape(ABC):\n",
        "    @abstractmethod\n",
        "    def area(self):\n",
        "        pass\n",
        "\n",
        "# Derived class: Circle\n",
        "class Circle(Shape):\n",
        "    def __init__(self, radius):\n",
        "        self.radius = radius\n",
        "\n",
        "    def area(self):\n",
        "        return math.pi * self.radius * self.radius\n",
        "\n",
        "# Derived class: Rectangle\n",
        "class Rectangle(Shape):\n",
        "    def __init__(self, length, width):\n",
        "        self.length = length\n",
        "        self.width = width\n",
        "\n",
        "    def area(self):\n",
        "        return self.length * self.width\n"
      ],
      "metadata": {
        "id": "aIKxEx5lYXWH"
      },
      "execution_count": 9,
      "outputs": []
    },
    {
      "cell_type": "code",
      "source": [
        "# 3. Implement a multi-level inheritance scenario where a class Vehicle has an attribute type. Derive a class Car and further derive a class ElectricCar that adds a battery attribute.# Base class class Vehicle:\n",
        "    def __init__(self, v_type):\n",
        "        self.v_type = v_type\n",
        "\n",
        "    def show_type(self):\n",
        "        print(f\"Vehicle type: {self.v_type}\")\n",
        "\n",
        "# Derived class\n",
        "class Car(Vehicle):\n",
        "    def __init__(self, v_type, brand):\n",
        "        super().__init__(v_type)  # call Vehicle constructor\n",
        "        self.brand = brand\n",
        "\n",
        "    def show_details(self):\n",
        "        print(f\"Car brand: {self.brand}, Type: {self.v_type}\")\n",
        "\n",
        "# Further derived class\n",
        "class ElectricCar(Car):\n",
        "    def __init__(self, v_type, brand, battery_capacity):\n",
        "        super().__init__(v_type, brand)  # call Car constructor\n",
        "        self.battery_capacity = battery_capacity\n",
        "\n",
        "    def show_info(self):\n",
        "        print(f\"Electric Car: {self.brand}, Battery: {self.battery_capacity} kWh, Type: {self.v_type}\")\n"
      ],
      "metadata": {
        "id": "VCvqys4fZJac"
      },
      "execution_count": null,
      "outputs": []
    },
    {
      "cell_type": "code",
      "source": [
        "# 4. Demonstrate polymorphism by creating a base class Bird with a method fly(). Create two derived classes Sparrow and Penguin that override the fly() method.\n",
        "\n",
        "class Bird:\n",
        "    def fly(self):\n",
        "        print(\"Birds can fly.\")\n",
        "\n",
        "class Sparrow(Bird):\n",
        "    def fly(self):\n",
        "        print(\"Sparrows can fly at high speeds.\")"
      ],
      "metadata": {
        "id": "eggzO-1raYv0"
      },
      "execution_count": 17,
      "outputs": []
    },
    {
      "cell_type": "code",
      "source": [
        "# 5. Write a program to demonstrate encapsulation by creating a class BankAccount with private attributes balance and methods to deposit, withdraw, and check balance.\n",
        "\n",
        "class BankAccount:\n",
        "    def __init__(self, initial_balance=0):\n",
        "        self.__balance = initial_balance\n",
        "\n",
        "    def deposit(self, amount):\n",
        "        if amount > 0:\n",
        "            self.__balance += amount\n",
        "            print(f\"Deposited: {amount}\")\n",
        "        else:\n",
        "            print(\"Deposit amount must be positive.\")\n",
        "\n",
        "    def withdraw(self, amount):\n",
        "        if 0 < amount <= self.__balance:\n",
        "            self.__balance -= amount\n",
        "            print(f\"Withdrew: {amount}\")\n",
        "        else:\n",
        "            print(\"Insufficient funds or invalid amount.\")\n",
        "\n",
        "    def check_balance(self):\n",
        "        print(f\"Current balance: {self.__balance}\")\n"
      ],
      "metadata": {
        "id": "r67aSjNGaj6x"
      },
      "execution_count": null,
      "outputs": []
    },
    {
      "cell_type": "code",
      "source": [
        "# 6. Demonstrate runtime polymorphism using a method play() in a base class Instrument. Derive classes Guitar and Piano that implement their own version of play().\n",
        "\n",
        "class Instrument:\n",
        "    def play(self):\n",
        "        print(\"Playing some instrument...\")\n",
        "\n",
        "class Guitar(Instrument):\n",
        "    def play(self):   # overriding\n",
        "        print(\"Strumming the guitar 🎸\")\n",
        "\n",
        "class Piano(Instrument):\n",
        "    def play(self):   # overriding\n",
        "        print(\"Playing the piano 🎹\")\n",
        "\n",
        "instruments = [Guitar(), Piano(), Instrument()]\n",
        "\n",
        "for inst in instruments:\n",
        "    inst.play()\n"
      ],
      "metadata": {
        "id": "RrteWeO1biJV"
      },
      "execution_count": null,
      "outputs": []
    },
    {
      "cell_type": "code",
      "source": [
        "# 7. Create a class MathOperations with a class method add_numbers() to add two numbers and a static method subtract_numbers() to subtract two numbers.\n",
        "\n",
        "class MathOperations:\n",
        "    @classmethod\n",
        "    def add_numbers(cls, a, b):\n",
        "        return a + b\n",
        "\n",
        "    @staticmethod\n",
        "    def subtract_numbers(a, b):\n",
        "        return a - b"
      ],
      "metadata": {
        "id": "ZyXJGT-VcM1X"
      },
      "execution_count": null,
      "outputs": []
    },
    {
      "cell_type": "code",
      "source": [
        "# 8. Implement a class Person with a class method to count the total number of persons created.\n",
        "\n",
        "class Person:\n",
        "    count = 0\n",
        "\n",
        "    def __init__(self):\n",
        "        Person.count += 1\n",
        "\n",
        "    @classmethod\n",
        "    def get_count(cls):\n",
        "        return cls.count"
      ],
      "metadata": {
        "id": "bjEQzS6YcgOg"
      },
      "execution_count": null,
      "outputs": []
    },
    {
      "cell_type": "code",
      "source": [
        "# 9. Write a class Fraction with attributes numerator and denominator. Override the str method to display the fraction as \"numerator/denominator\".\n",
        "\n",
        "class Fraction:\n",
        "    def __init__(self, numerator, denominator):\n",
        "        if denominator == 0:\n",
        "            raise ValueError(\"Denominator cannot be zero.\")\n",
        "        self.numerator = numerator\n",
        "        self.denominator = denominator\n",
        "\n",
        "    def __str__(self):\n",
        "        return f\"{self.numerator}/{self.denominator}\"\n",
        "\n"
      ],
      "metadata": {
        "id": "jonOfzOIcnW4"
      },
      "execution_count": null,
      "outputs": []
    },
    {
      "cell_type": "code",
      "source": [
        "# 10. Demonstrate operator overloading by creating a class Vector and overriding the add method to add two vectors.\n",
        "\n",
        "class Vector:\n",
        "    def __init__(self, x, y):\n",
        "        self.x = x\n",
        "        self.y = y\n",
        "\n",
        "    # Overloading the + operator\n",
        "    def __add__(self, other):\n",
        "        return Vector(self.x + other.x, self.y + other.y)\n",
        "\n",
        "    def __str__(self):\n",
        "        return f\"({self.x}, {self.y})\"\n",
        "\n",
        "\n",
        "# Test\n",
        "v1 = Vector(2, 3)\n",
        "v2 = Vector(4, 5)\n",
        "\n",
        "print(\"Vector 1:\", v1)\n",
        "print(\"Vector 2:\", v2)\n",
        "\n",
        "v3 = v1 + v2   # calls __add__()\n",
        "print(\"Sum of vectors:\", v3)"
      ],
      "metadata": {
        "id": "xP2aWhMSc3O1"
      },
      "execution_count": null,
      "outputs": []
    },
    {
      "cell_type": "code",
      "source": [
        "# 11. Create a class Person with attributes name and age. Add a method greet() that prints \"Hello, my name is {name} and I am {age} years old.\"\n",
        "\n",
        "class Person:\n",
        "    def __init__(self, name, age):\n",
        "        self.name = name\n",
        "        self.age = age\n",
        "\n",
        "    def greet(self):\n",
        "        print(f\"Hello, my name is {self.name} and I am {self.age} years old.\")\n",
        "\n",
        "\n",
        "# Test\n",
        "p1 = Person(\"Ravi\", 25)\n",
        "p2 = Person(\"Anita\", 30)\n",
        "\n",
        "p1.greet()\n",
        "p2.greet()\n"
      ],
      "metadata": {
        "id": "zCIlxxrddLcA"
      },
      "execution_count": null,
      "outputs": []
    },
    {
      "cell_type": "code",
      "source": [
        "# 12. Implement a class Student with attributes name and grades. Create a method average_grade() to compute the average of the grades.\n",
        "\n",
        "class Student:\n",
        "    def __init__(self, name, grades):\n",
        "        self.name = name\n",
        "        self.grades = grades"
      ],
      "metadata": {
        "id": "jLQovrgeddpf"
      },
      "execution_count": 18,
      "outputs": []
    },
    {
      "cell_type": "code",
      "source": [
        "# 13. Create a class Rectangle with methods set_dimensions() to set the dimensions and area() to calculate the area.\n",
        "\n",
        "class Rectangle:\n",
        "    def __init__(self):\n",
        "        self.length = 0\n",
        "        self.width = 0\n",
        "\n",
        "    def set_dimensions(self, length, width):\n",
        "        self.length = length\n",
        "        self.width = width\n",
        "\n",
        "    def area(self):\n",
        "        return self.length * self.width\n",
        "\n",
        "\n",
        "# Test\n",
        "rect = Rectangle()\n",
        "rect.set_dimensions(5, 3)\n",
        "print(\"Area of rectangle:\", rect.area())\n"
      ],
      "metadata": {
        "id": "l4Ry2zfUdoKz"
      },
      "execution_count": null,
      "outputs": []
    },
    {
      "cell_type": "code",
      "source": [
        "# 14. Create a class Employee with a method calculate_salary() that computes the salary based on hours worked and hourly rate. Create a derived class Manager that adds a bonus to the salary.\n",
        "\n",
        "class Employee:\n",
        "    def __init__(self, name, hourly_rate):\n",
        "        self.name = name\n",
        "        self.hourly_rate = hourly_rate\n",
        "\n",
        "    def calculate_salary(self, hours_worked):\n",
        "        return hours_worked * self.hourly_rate"
      ],
      "metadata": {
        "id": "c91qfmQ2d435"
      },
      "execution_count": null,
      "outputs": []
    },
    {
      "cell_type": "code",
      "source": [
        "# 15. Create a class Product with attributes name, price, and quantity. Implement a method total_price() that calculates the total price of the product.\n",
        "\n",
        "class Product:\n",
        "    def __init__(self, name, price, quantity):\n",
        "        self.name = name\n",
        "        self.price = price\n",
        "        self.quantity = quantity\n",
        "\n",
        "    def total_price(self):\n",
        "        return self.price * self.quantity"
      ],
      "metadata": {
        "id": "tGzYDUGaeDj1"
      },
      "execution_count": null,
      "outputs": []
    },
    {
      "cell_type": "code",
      "source": [
        "# 16.Create a class Animal with an abstract method sound(). Create two derived classes Cow and Sheep that implement the sound() method.\n",
        "\n",
        "from abc import ABC, abstractmethod\n",
        "\n",
        "# Abstract base class\n",
        "class Animal(ABC):\n",
        "    @abstractmethod\n",
        "    def sound(self):\n",
        "        pass\n",
        "\n",
        "# Derived class: Cow\n",
        "class Cow(Animal):\n",
        "    def sound(self):\n",
        "        return \"Moo\"\n",
        "\n",
        "# Derived class: Sheep\n",
        "class Sheep(Animal):\n",
        "    def sound(self):\n",
        "        return \"Baa\"\n",
        "\n",
        "# Test\n",
        "animals = [Cow(), Sheep()]\n",
        "\n",
        "for animal in animals:\n",
        "    print(f\"{animal.__class__.__name__} sound: {animal.sound()}\")\n"
      ],
      "metadata": {
        "id": "0lpbfWs4eNBc"
      },
      "execution_count": null,
      "outputs": []
    },
    {
      "cell_type": "code",
      "source": [
        "# 17. Create a class Book with attributes title, author, and year_published. Add a method get_book_info() that returns a formatted string with the book's details.\n",
        "\n",
        "class Book:\n",
        "    def __init__(self, title, author, year_published):\n",
        "        self.title = title\n",
        "        self.author = author\n",
        "        self.year_published = year_published"
      ],
      "metadata": {
        "id": "ByQ6GQXnek7n"
      },
      "execution_count": null,
      "outputs": []
    },
    {
      "cell_type": "code",
      "source": [
        "# 18. Create a class House with attributes address and price. Create a derived class Mansion that adds an attribute number_of_rooms.\n",
        "\n",
        "# Base class\n",
        "class House:\n",
        "    def __init__(self, address, price):\n",
        "        self.address = address\n",
        "        self.price = price\n",
        "\n",
        "    def show_info(self):\n",
        "        print(f\"House located at {self.address}, Price: {self.price}\")\n",
        "\n",
        "# Derived class\n",
        "class Mansion(House):\n",
        "    def __init__(self, address, price, number_of_rooms):\n",
        "        super().__init__(address, price)  # call parent constructor\n",
        "        self.number_of_rooms = number_of_rooms\n",
        "\n",
        "    def show_info(self):\n",
        "        print(f\"Mansion located at {self.address}, Price: {self.price}, Rooms: {self.number_of_rooms}\")\n",
        "\n"
      ],
      "metadata": {
        "id": "R5coGqgleyFZ"
      },
      "execution_count": null,
      "outputs": []
    }
  ]
}